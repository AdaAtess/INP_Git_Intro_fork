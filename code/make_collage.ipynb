{
 "cells": [
  {
   "cell_type": "code",
   "execution_count": 3,
   "metadata": {},
   "outputs": [],
   "source": [
    "from PIL import Image, ImageDraw, ImageOps, ImageFont\n",
    "import glob\n",
    "import os\n",
    "import random\n",
    "import numpy as np\n",
    "\n",
    "def concat_images(image_paths, size, shape=None):\n",
    "    # Open images and resize them\n",
    "    width, height = size\n",
    "    images = map(Image.open, image_paths)\n",
    "    images = [ImageOps.fit(image, size, Image.ANTIALIAS) \n",
    "              for image in images]\n",
    "    \n",
    "    # Create canvas for the final image with total size\n",
    "    shape = shape if shape else (1, len(images))\n",
    "    image_size = (width * shape[1], height * shape[0])\n",
    "    image = Image.new('RGB', image_size)\n",
    "    myFont = ImageFont.truetype('../code/SourceCodePro-BoldItalic.ttf', 30)\n",
    "    \n",
    "    # Paste images into final image\n",
    "    for row in range(shape[0]):\n",
    "        for col in range(shape[1]):\n",
    "            offset = width * col, height * row\n",
    "            idx = row * shape[1] + col\n",
    "            if idx < len(image_paths):\n",
    "                draw = ImageDraw.Draw(images[idx])\n",
    "                name = image_paths[idx].split(\"/\")[-1][:-5]\n",
    "                draw.text((0, 0),name,fill=(255,0,0,255) , font=myFont)\n",
    "                image.paste(images[idx], offset)\n",
    "    \n",
    "    return image\n",
    "\n",
    "# Get list of image paths\n",
    "folder = '../photos'\n",
    "image_paths = [os.path.join(folder, f) \n",
    "               for f in os.listdir(folder) if f.endswith('.jpeg')]\n",
    "\n",
    "collage_size = np.sqrt(len(image_paths))\n",
    "\n",
    "# Create and save image grid\n",
    "image = concat_images(image_paths, (300, 300), (int(np.round(collage_size)),int(np.ceil(collage_size))))\n",
    "image.save('../collage.jpg', 'JPEG')"
   ]
  },
  {
   "cell_type": "code",
   "execution_count": 80,
   "metadata": {},
   "outputs": [
    {
     "data": {
      "text/plain": [
       "'Antonio_1'"
      ]
     },
     "execution_count": 80,
     "metadata": {},
     "output_type": "execute_result"
    }
   ],
   "source": [
    "images[1][:-5]"
   ]
  },
  {
   "cell_type": "code",
   "execution_count": null,
   "metadata": {},
   "outputs": [],
   "source": []
  }
 ],
 "metadata": {
  "kernelspec": {
   "display_name": "Python 3",
   "language": "python",
   "name": "python3"
  },
  "language_info": {
   "codemirror_mode": {
    "name": "ipython",
    "version": 3
   },
   "file_extension": ".py",
   "mimetype": "text/x-python",
   "name": "python",
   "nbconvert_exporter": "python",
   "pygments_lexer": "ipython3",
   "version": "3.8.3"
  }
 },
 "nbformat": 4,
 "nbformat_minor": 4
}
